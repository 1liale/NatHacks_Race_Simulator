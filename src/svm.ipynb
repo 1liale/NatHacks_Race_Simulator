{
 "cells": [
  {
   "cell_type": "code",
   "execution_count": null,
   "id": "c8ec1969",
   "metadata": {
    "scrolled": false
   },
   "outputs": [],
   "source": [
    "import numpy as np\n",
    "import pandas as pd\n",
    "\n",
    "from matplotlib import pyplot as plt\n",
    "from sklearn.metrics import plot_confusion_matrix\n",
    "\n",
    "from sklearn import preprocessing\n",
    "from sklearn.pipeline import make_pipeline\n",
    "from sklearn.model_selection import KFold\n",
    "from sklearn.svm import SVC\n",
    "from sklearn.metrics import plot_confusion_matrix\n",
    "from pyriemann.estimation import XdawnCovariances\n",
    "from pyriemann.tangentspace import TangentSpace\n",
    "\n",
    "from sklearn.ensemble import RandomForestClassifier\n",
    "from time import time\n",
    "\n",
    "\n",
    "folder = \"../Collected_Data/FormattedEEG/\"\n",
    "types = [\"control\", \"left_blink\", \"right_blink\"]\n",
    "paths = np.array([[\"left_blink_var1\", 1],[\"left_blink_var2\", 1], [\"right_blink_var1\", 2], [\"right_blink_var2\", 2], [\"control_var1\", 0], [\"control_var2\", 0]])\n",
    "\n",
    "# Read in csv files\n",
    "def read_csvs(folder, types, paths):\n",
    "    output_x = []\n",
    "    output_y = []\n",
    "    \n",
    "    for path in paths:\n",
    "        for i in range(1, 11):\n",
    "            if path[0].find(\"control\") != -1 and i == 6:\n",
    "                break;\n",
    "            cur_path = folder + types[int(path[1])] + \"/\" + path[0] + \"_\" + str(i) + \"_\" + \"formatted.csv\"\n",
    "            input_data = pd.read_csv(cur_path, header = 0, usecols=[1, 2, 3, 4])\n",
    "            X = input_data.to_numpy()[250:1000]\n",
    "            X = X.T\n",
    "            y = path[1]\n",
    "            output_x.append(X)\n",
    "            output_y.append(float(y))\n",
    "    \n",
    "    output_x = np.array(output_x) \n",
    "    output_y = np.array(output_y)\n",
    "    return output_x, output_y\n",
    "\n",
    "X, y = read_csvs(folder, types, paths)\n",
    "\n",
    "\n",
    "cv = KFold(n_splits=4, shuffle=True)\n",
    "\n",
    "start = time()\n",
    "clf = make_pipeline(XdawnCovariances(estimator='oas'), TangentSpace(metric = \"riemann\"), RandomForestClassifier(n_estimators=1000, n_jobs = 8))\n",
    "\n",
    "pred = np.zeros(len(y))\n",
    "print(len(y))\n",
    "\n",
    "for train_idx, test_idx in cv.split(X):\n",
    "    y_train, y_test = y[train_idx], y[test_idx]\n",
    "    clf.fit(X[train_idx], y_train)\n",
    "    pred[test_idx] = clf.predict(X[test_idx])\n",
    "\n",
    "acc = np.mean(pred == y)\n",
    "print(\"Classification accuracy: %f \" % (acc))\n",
    "end = time()\n",
    "print(\"Time taken: \" + str(end - start))\n",
    "plot_confusion_matrix(clf, X, y, display_labels=types)  \n",
    "plt.show()  "
   ]
  },
  {
   "cell_type": "code",
   "execution_count": null,
   "id": "65c4ed80",
   "metadata": {
    "scrolled": true
   },
   "outputs": [],
   "source": [
    "from time import time\n",
    "\n",
    "folder = \"../Collected_Data/FormattedEEG/\"\n",
    "types = [\"control\", \"left_blink\", \"right_blink\"]\n",
    "paths_orig = np.array([[\"left_blink_var1\", 1],[\"left_blink_var2\", 1], [\"right_blink_var1\", 2], [\"right_blink_var2\", 2], [\"control_var1\", 0], [\"control_var2\", 0]])\n",
    "noleftvar1 = np.array([[\"left_blink_var2\", 1], [\"right_blink_var1\", 2], [\"right_blink_var2\", 2], [\"control_var1\", 0], [\"control_var2\", 0]])\n",
    "noleftvar2 = np.array([[\"left_blink_var1\", 1], [\"right_blink_var1\", 2], [\"right_blink_var2\", 2], [\"control_var1\", 0], [\"control_var2\", 0]])\n",
    "norightvar1 = np.array([[\"left_blink_var1\", 1],[\"left_blink_var2\", 1], [\"right_blink_var2\", 2], [\"control_var1\", 0], [\"control_var2\", 0]])\n",
    "norightvar2 = np.array([[\"left_blink_var1\", 1],[\"left_blink_var2\", 1], [\"right_blink_var1\", 2], [\"control_var1\", 0], [\"control_var2\", 0]])\n",
    "nocontrol1 = np.array([[\"left_blink_var1\", 1],[\"left_blink_var2\", 1], [\"right_blink_var1\", 2], [\"right_blink_var2\", 2], [\"control_var2\", 0]])\n",
    "nocontrol2 = np.array([[\"left_blink_var1\", 1],[\"left_blink_var2\", 1], [\"right_blink_var1\", 2], [\"right_blink_var2\", 2], [\"control_var1\", 0]])\n",
    "\n",
    "paths_list = [[paths_orig, \"original\"], [noleftvar1, \"no left blink var1\"], [noleftvar2, \"no left blink var2\"], [norightvar1, \"no right var1\"], [norightvar2, \"no right var2\"], [nocontrol1, \"no control var 1\"], [nocontrol2, \"no control var 2\"]]\n",
    "for paths in paths_list:\n",
    "    X, y = read_csvs(folder, types, paths[0])\n",
    "\n",
    "\n",
    "    cv = KFold(n_splits=4, shuffle=True)\n",
    "\n",
    "    clf = make_pipeline(XdawnCovariances(estimator='oas'), TangentSpace(metric = \"riemann\"), RandomForestClassifier(n_estimators=500, n_jobs=4))\n",
    "\n",
    "    pred = np.zeros(len(y))\n",
    "    print(\"Test: \" + paths[1])\n",
    "    print(\"Test size:\" + str(len(y)))\n",
    "\n",
    "    for train_idx, test_idx in cv.split(X):\n",
    "        y_train, y_test = y[train_idx], y[test_idx]\n",
    "        clf.fit(X[train_idx], y_train)\n",
    "        pred[test_idx] = clf.predict(X[test_idx])\n",
    "\n",
    "    count = 0\n",
    "    wrong_labelled = []\n",
    "    for j in range(len(pred)):\n",
    "        if pred[j] == y[j]:\n",
    "            count += 1\n",
    "        else:\n",
    "            wrong_labelled.append(j)\n",
    "    print(wrong_labelled)\n",
    "    acc = count / len(pred)\n",
    "    print(\"Classification accuracy: %f \\n\" % (acc))\n",
    "    plot_confusion_matrix(clf, X, y, display_labels=types)  \n",
    "    plt.show()  "
   ]
  },
  {
   "cell_type": "code",
   "execution_count": 72,
   "id": "793f232a",
   "metadata": {
    "scrolled": true
   },
   "outputs": [
    {
     "name": "stdout",
     "output_type": "stream",
     "text": [
      "looking for an EEG stream...\n",
      "[[  989  -642 -1000 ...  -993  -668 -1000]\n",
      " [  989  -643 -1000 ...   986  -687 -1000]\n",
      " [  971  -460 -1000 ...   979  -505 -1000]\n",
      " [  731  -972 -1000 ...   551 -1000  -959]]\n",
      "(4, 750)\n",
      "[[ -642 -1000   288 ...  -668 -1000   489]\n",
      " [ -643 -1000   285 ...  -687 -1000   452]\n",
      " [ -460 -1000  -347 ...  -505 -1000  -150]\n",
      " [ -972 -1000   522 ... -1000  -959   675]]\n",
      "(4, 750)\n"
     ]
    },
    {
     "ename": "KeyboardInterrupt",
     "evalue": "",
     "output_type": "error",
     "traceback": [
      "\u001b[1;31m---------------------------------------------------------------------------\u001b[0m",
      "\u001b[1;31mKeyboardInterrupt\u001b[0m                         Traceback (most recent call last)",
      "\u001b[1;32m<ipython-input-72-3ca36779d1a9>\u001b[0m in \u001b[0;36m<module>\u001b[1;34m\u001b[0m\n\u001b[0;32m     42\u001b[0m \u001b[1;33m\u001b[0m\u001b[0m\n\u001b[0;32m     43\u001b[0m \u001b[1;32mif\u001b[0m \u001b[0m__name__\u001b[0m \u001b[1;33m==\u001b[0m \u001b[1;34m\"__main__\"\u001b[0m\u001b[1;33m:\u001b[0m\u001b[1;33m\u001b[0m\u001b[1;33m\u001b[0m\u001b[0m\n\u001b[1;32m---> 44\u001b[1;33m     \u001b[0mmain\u001b[0m\u001b[1;33m(\u001b[0m\u001b[1;33m)\u001b[0m\u001b[1;33m\u001b[0m\u001b[1;33m\u001b[0m\u001b[0m\n\u001b[0m\u001b[0;32m     45\u001b[0m \u001b[1;33m\u001b[0m\u001b[0m\n",
      "\u001b[1;32m<ipython-input-72-3ca36779d1a9>\u001b[0m in \u001b[0;36mmain\u001b[1;34m()\u001b[0m\n\u001b[0;32m     37\u001b[0m             \u001b[0mprint\u001b[0m\u001b[1;33m(\u001b[0m\u001b[0moutput\u001b[0m\u001b[1;33m)\u001b[0m\u001b[1;33m\u001b[0m\u001b[1;33m\u001b[0m\u001b[0m\n\u001b[0;32m     38\u001b[0m             \u001b[0mprint\u001b[0m\u001b[1;33m(\u001b[0m\u001b[0moutput\u001b[0m\u001b[1;33m.\u001b[0m\u001b[0mshape\u001b[0m\u001b[1;33m)\u001b[0m\u001b[1;33m\u001b[0m\u001b[1;33m\u001b[0m\u001b[0m\n\u001b[1;32m---> 39\u001b[1;33m             \u001b[0mtime\u001b[0m\u001b[1;33m.\u001b[0m\u001b[0msleep\u001b[0m\u001b[1;33m(\u001b[0m\u001b[1;36m4\u001b[0m\u001b[1;33m)\u001b[0m\u001b[1;33m\u001b[0m\u001b[1;33m\u001b[0m\u001b[0m\n\u001b[0m\u001b[0;32m     40\u001b[0m \u001b[1;33m\u001b[0m\u001b[0m\n\u001b[0;32m     41\u001b[0m     \u001b[0mprint\u001b[0m\u001b[1;33m(\u001b[0m\u001b[1;34m'Streams closed'\u001b[0m\u001b[1;33m)\u001b[0m\u001b[1;33m\u001b[0m\u001b[1;33m\u001b[0m\u001b[0m\n",
      "\u001b[1;31mKeyboardInterrupt\u001b[0m: "
     ]
    }
   ],
   "source": [
    "from queue import Queue\n",
    "from pylsl import StreamInlet, resolve_stream\n",
    "import matplotlib.pyplot as plt\n",
    "import numpy as np\n",
    "\n",
    "import keyboard\n",
    "import time\n",
    "\n",
    "def stream_sliding(buffer, chunk, load_data_ML):\n",
    "    buffer[:-1] = buffer[1:]\n",
    "    buffer[-1:] = [chunk]\n",
    "\n",
    "    return buffer\n",
    "\n",
    "def main():\n",
    "    buffer = np.full((750, 4), -10000)\n",
    "    load_data_ML = True\n",
    "    # first resolve an EEG stream on the lab network\n",
    "    print(\"looking for an EEG stream...\")\n",
    "    streams = resolve_stream('type', 'EEG')\n",
    "\n",
    "    # create a new inlet to read from the stream\n",
    "    inlet = StreamInlet(streams[0])\n",
    "\n",
    "    while True:\n",
    "        if keyboard.is_pressed(\"q\"):\n",
    "            print(\"exiting program\")\n",
    "            break\n",
    "        chunk,_ = inlet.pull_sample()\n",
    "        chunk = np.array(chunk)[0: 4]\n",
    "        #print(chunk)\n",
    "\n",
    "        buffer = stream_sliding(buffer, chunk, load_data_ML)\n",
    "        output = buffer.T\n",
    "        \n",
    "        if output[0][0] > -10000:\n",
    "            print(output)\n",
    "            print(output.shape)\n",
    "            time.sleep(4)\n",
    "        \n",
    "    print('Streams closed')\n",
    "\n",
    "if __name__ == \"__main__\":\n",
    "    main()\n",
    "    "
   ]
  },
  {
   "cell_type": "code",
   "execution_count": 64,
   "id": "d59874f0",
   "metadata": {},
   "outputs": [
    {
     "data": {
      "text/plain": [
       "[0, 1, 2]"
      ]
     },
     "execution_count": 64,
     "metadata": {},
     "output_type": "execute_result"
    }
   ],
   "source": [
    "test = [0, 1, 2]\n",
    "test[0:]\n",
    "test[:-1]\n",
    "test[0: len(test)]"
   ]
  },
  {
   "cell_type": "code",
   "execution_count": null,
   "id": "769109a6",
   "metadata": {
    "scrolled": true
   },
   "outputs": [],
   "source": [
    "from queue import Queue\n",
    "buffer_zone = Queue(maxsize = 10)\n",
    "buffer_zone.put(1)\n",
    "buffer_zone.put(2)\n",
    "print(buffer_zone.qsize())"
   ]
  },
  {
   "cell_type": "code",
   "execution_count": null,
   "id": "7ed9ce69",
   "metadata": {},
   "outputs": [],
   "source": [
    "buffer = np.array([])\n",
    "print(buffer)"
   ]
  },
  {
   "cell_type": "code",
   "execution_count": null,
   "id": "85f82154",
   "metadata": {},
   "outputs": [],
   "source": [
    "np.append(buffer, [[1,2],[1,2]])"
   ]
  },
  {
   "cell_type": "code",
   "execution_count": 48,
   "id": "4ef631ba",
   "metadata": {},
   "outputs": [
    {
     "data": {
      "text/plain": [
       "array([[1., 2., 3., 4.],\n",
       "       [1., 2., 3., 4.]])"
      ]
     },
     "execution_count": 48,
     "metadata": {},
     "output_type": "execute_result"
    }
   ],
   "source": [
    "np.append(np.array([np.empty(4)]), np.array([[1,2,3,4]]), axis = 0)"
   ]
  }
 ],
 "metadata": {
  "kernelspec": {
   "display_name": "Python 3",
   "language": "python",
   "name": "python3"
  },
  "language_info": {
   "codemirror_mode": {
    "name": "ipython",
    "version": 3
   },
   "file_extension": ".py",
   "mimetype": "text/x-python",
   "name": "python",
   "nbconvert_exporter": "python",
   "pygments_lexer": "ipython3",
   "version": "3.8.8"
  }
 },
 "nbformat": 4,
 "nbformat_minor": 5
}
