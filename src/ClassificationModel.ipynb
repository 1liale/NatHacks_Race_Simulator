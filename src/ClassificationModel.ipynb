{
 "cells": [
  {
   "cell_type": "code",
   "execution_count": 68,
   "id": "c8ec1969",
   "metadata": {
    "scrolled": false
   },
   "outputs": [
    {
     "name": "stdout",
     "output_type": "stream",
     "text": [
      "Test cases: 1325\n",
      "Classification accuracy: 0.9969811320754717\n",
      "Time taken: 13.00118899345398\n"
     ]
    },
    {
     "data": {
      "image/png": "[encoded data removed]",
      "text/plain": [
       "<Figure size 432x288 with 2 Axes>"
      ]
     },
     "metadata": {
      "needs_background": "light"
     },
     "output_type": "display_data"
    },
    {
     "data": {
      "text/plain": [
       "['./models/mlp.joblib']"
      ]
     },
     "execution_count": 68,
     "metadata": {},
     "output_type": "execute_result"
    }
   ],
   "source": [
    "import numpy as np\n",
    "import pandas as pd\n",
    "\n",
    "from matplotlib import pyplot as plt\n",
    "\n",
    "from sklearn import preprocessing\n",
    "from sklearn.pipeline import make_pipeline\n",
    "from sklearn.model_selection import KFold\n",
    "from sklearn.metrics import plot_confusion_matrix\n",
    "\n",
    "from pyriemann.estimation import XdawnCovariances\n",
    "from pyriemann.tangentspace import TangentSpace\n",
    "\n",
    "from sklearn.svm import SVC\n",
    "from sklearn.ensemble import RandomForestClassifier\n",
    "from sklearn.neural_network import MLPClassifier\n",
    "\n",
    "from joblib import Parallel, delayed, dump\n",
    "from time import time\n",
    "\n",
    "folder = \"../Collected_Data/FormattedEEG/\"\n",
    "types = [\"control\", \"left_blink\", \"right_blink\", \"jaw_clench\"]\n",
    "paths = np.array([[\"left_blink_var1\", 1], [\"left_blink_var2\", 1], [\"right_blink_var1\", 2], [\"right_blink_var2\", 2], [\"control_var1\", 0], [\"control_var2\", 0], [\"control_var3\", 0], [\"jaw_clench_var1\", 3], [\"jaw_clench_var2\", 3]])\n",
    "\n",
    "# Read in csv files\n",
    "def read_csvs(folder, types, paths):\n",
    "    output_x = []\n",
    "    output_y = []\n",
    "    \n",
    "    for path in paths:\n",
    "        i = 1\n",
    "        while True:\n",
    "            try:\n",
    "                cur_path = folder + types[int(path[1])] + \"/\" + path[0] + \"_\" + str(i) + \"_\" + \"formatted.csv\"\n",
    "                # print(cur_path)\n",
    "                input_data = pd.read_csv(cur_path, header = 0, usecols=[1, 2, 3, 4])\n",
    "                y = path[1]\n",
    "                y = float(y)\n",
    "                X = input_data.to_numpy()[150:900]\n",
    "                X = X.T\n",
    "                output_x.append(X)\n",
    "                output_y.append(y)\n",
    "                X = input_data.to_numpy()[200:950]\n",
    "                X = X.T\n",
    "                output_x.append(X)\n",
    "                output_y.append(y)\n",
    "                X = input_data.to_numpy()[250:1000]\n",
    "                X = X.T \n",
    "                output_x.append(X)\n",
    "                output_y.append(y)\n",
    "                X = input_data.to_numpy()[300:1050]\n",
    "                X = X.T\n",
    "                output_x.append(X)\n",
    "                output_y.append(y)\n",
    "                X = input_data.to_numpy()[350:1100]\n",
    "                X = X.T\n",
    "                output_x.append(X)\n",
    "                output_y.append(y)\n",
    "                i += 1\n",
    "            except:\n",
    "                break;\n",
    "    \n",
    "    output_x = np.array(output_x) \n",
    "    output_y = np.array(output_y)\n",
    "    return output_x, output_y\n",
    "\n",
    "def train_model(X, y, n_splits, model):\n",
    "    cv = KFold(n_splits, shuffle=True)\n",
    "    clf = make_pipeline(XdawnCovariances(estimator=\"oas\", nfilter=2), TangentSpace(metric = \"riemann\"), model)\n",
    "    pred = np.zeros(len(y))\n",
    "    \n",
    "    def train_single_set(train_idx, test_idx):\n",
    "        y_train, y_test = y[train_idx], y[test_idx]\n",
    "        clf.fit(X[train_idx], y_train)\n",
    "        y_predict = clf.predict(X[test_idx])\n",
    "        return dict(test_idx = test_idx, y_predict = y_predict)\n",
    "        \n",
    "    out = Parallel(n_jobs = -1)(delayed(train_single_set)(train_idx, test_idx) for train_idx, test_idx in cv.split(X))\n",
    "    for d in out:\n",
    "        pred[d[\"test_idx\"]] = d[\"y_predict\"]\n",
    "    \n",
    "    clf = clf.fit(X, y)\n",
    "    \n",
    "    return clf, pred\n",
    "\n",
    "\n",
    "X, y = read_csvs(folder, types, paths)\n",
    "\n",
    "svcClass = SVC(C=0.3, decision_function_shape=\"ovo\", gamma=0.01, kernel = \"rbf\")\n",
    "randForClass = RandomForestClassifier(criterion=\"entropy\", max_features=\"sqrt\", n_estimators=875)\n",
    "mlpClass = MLPClassifier(hidden_layer_sizes=(230,), learning_rate=\"adaptive\", max_iter=10000, solver=\"adam\")\n",
    "classifiers = [svcClass, randForClass, mlpClass]\n",
    "dur = time()\n",
    "clf, pred = train_model(X, y, 8, classifiers[2])\n",
    "dur = time() - dur\n",
    "\n",
    "acc = np.mean(pred == y)\n",
    "                        \n",
    "print(f\"Test cases: {len(y)}\")\n",
    "print(f\"Classification accuracy: {acc}\")\n",
    "print(f\"Time taken: {dur}\" )\n",
    "plot_confusion_matrix(clf, X, y, display_labels=types)\n",
    "plt.show()\n",
    "\n",
    "dump(clf, './models/mlp.joblib')"
   ]
  },
  {
   "cell_type": "code",
   "execution_count": null,
   "id": "65c4ed80",
   "metadata": {
    "scrolled": true
   },
   "outputs": [],
   "source": [
    "from time import time\n",
    "\n",
    "folder = \"../Collected_Data/FormattedEEG/\"\n",
    "types = [\"control\", \"left_blink\", \"right_blink\"]\n",
    "paths_orig = np.array([[\"left_blink_var1\", 1],[\"left_blink_var2\", 1], [\"right_blink_var1\", 2], [\"right_blink_var2\", 2], [\"control_var1\", 0], [\"control_var2\", 0]])\n",
    "noleftvar1 = np.array([[\"left_blink_var2\", 1], [\"right_blink_var1\", 2], [\"right_blink_var2\", 2], [\"control_var1\", 0], [\"control_var2\", 0]])\n",
    "noleftvar2 = np.array([[\"left_blink_var1\", 1], [\"right_blink_var1\", 2], [\"right_blink_var2\", 2], [\"control_var1\", 0], [\"control_var2\", 0]])\n",
    "norightvar1 = np.array([[\"left_blink_var1\", 1],[\"left_blink_var2\", 1], [\"right_blink_var2\", 2], [\"control_var1\", 0], [\"control_var2\", 0]])\n",
    "norightvar2 = np.array([[\"left_blink_var1\", 1],[\"left_blink_var2\", 1], [\"right_blink_var1\", 2], [\"control_var1\", 0], [\"control_var2\", 0]])\n",
    "nocontrol1 = np.array([[\"left_blink_var1\", 1],[\"left_blink_var2\", 1], [\"right_blink_var1\", 2], [\"right_blink_var2\", 2], [\"control_var2\", 0]])\n",
    "nocontrol2 = np.array([[\"left_blink_var1\", 1],[\"left_blink_var2\", 1], [\"right_blink_var1\", 2], [\"right_blink_var2\", 2], [\"control_var1\", 0]])\n",
    "\n",
    "paths_list = [[paths_orig, \"original\"], [noleftvar1, \"no left blink var1\"], [noleftvar2, \"no left blink var2\"], [norightvar1, \"no right var1\"], [norightvar2, \"no right var2\"], [nocontrol1, \"no control var 1\"], [nocontrol2, \"no control var 2\"]]\n",
    "for paths in paths_list:\n",
    "    X, y = read_csvs(folder, types, paths[0])\n",
    "\n",
    "\n",
    "    cv = KFold(n_splits=4, shuffle=True)\n",
    "\n",
    "    clf = make_pipeline(XdawnCovariances(estimator='oas'), TangentSpace(metric = \"riemann\"), RandomForestClassifier(n_estimators=500, n_jobs=4))\n",
    "\n",
    "    pred = np.zeros(len(y))\n",
    "    print(\"Test: \" + paths[1])\n",
    "    print(\"Test size:\" + str(len(y)))\n",
    "\n",
    "    for train_idx, test_idx in cv.split(X):\n",
    "        y_train, y_test = y[train_idx], y[test_idx]\n",
    "        clf.fit(X[train_idx], y_train)\n",
    "        pred[test_idx] = clf.predict(X[test_idx])\n",
    "\n",
    "    count = 0\n",
    "    wrong_labelled = []\n",
    "    for j in range(len(pred)):\n",
    "        if pred[j] == y[j]:\n",
    "            count += 1\n",
    "        else:\n",
    "            wrong_labelled.append(j)\n",
    "    print(wrong_labelled)\n",
    "    acc = count / len(pred)\n",
    "    print(\"Classification accuracy: %f \\n\" % (acc))\n",
    "    plot_confusion_matrix(clf, X, y, display_labels=types)  \n",
    "    plt.show()  "
   ]
  }
 ],
 "metadata": {
  "kernelspec": {
   "display_name": "Python 3",
   "language": "python",
   "name": "python3"
  },
  "language_info": {
   "codemirror_mode": {
    "name": "ipython",
    "version": 3
   },
   "file_extension": ".py",
   "mimetype": "text/x-python",
   "name": "python",
   "nbconvert_exporter": "python",
   "pygments_lexer": "ipython3",
   "version": "3.8.8"
  }
 },
 "nbformat": 4,
 "nbformat_minor": 5
}
