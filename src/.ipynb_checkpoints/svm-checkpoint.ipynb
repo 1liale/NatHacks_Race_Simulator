{
 "cells": [
  {
   "cell_type": "code",
   "execution_count": null,
   "id": "c8ec1969",
   "metadata": {
    "scrolled": false
   },
   "outputs": [],
   "source": [
    "import numpy as np\n",
    "import pandas as pd\n",
    "\n",
    "from matplotlib import pyplot as plt\n",
    "from sklearn.metrics import plot_confusion_matrix\n",
    "\n",
    "from sklearn import preprocessing\n",
    "from sklearn.pipeline import make_pipeline\n",
    "from sklearn.model_selection import KFold\n",
    "from sklearn.svm import SVC\n",
    "from sklearn.metrics import plot_confusion_matrix\n",
    "from pyriemann.estimation import XdawnCovariances\n",
    "from pyriemann.tangentspace import TangentSpace\n",
    "\n",
    "from sklearn.ensemble import RandomForestClassifier\n",
    "from time import time\n",
    "\n",
    "\n",
    "folder = \"../Collected_Data/FormattedEEG/\"\n",
    "types = [\"control\", \"left_blink\", \"right_blink\"]\n",
    "paths = np.array([[\"left_blink_var1\", 1],[\"left_blink_var2\", 1], [\"right_blink_var1\", 2], [\"right_blink_var2\", 2], [\"control_var1\", 0], [\"control_var2\", 0]])\n",
    "\n",
    "# Read in csv files\n",
    "def read_csvs(folder, types, paths):\n",
    "    output_x = []\n",
    "    output_y = []\n",
    "    \n",
    "    for path in paths:\n",
    "        for i in range(1, 11):\n",
    "            if path[0].find(\"control\") != -1 and i == 6:\n",
    "                break;\n",
    "            cur_path = folder + types[int(path[1])] + \"/\" + path[0] + \"_\" + str(i) + \"_\" + \"formatted.csv\"\n",
    "            input_data = pd.read_csv(cur_path, header = 0, usecols=[1, 2, 3, 4])\n",
    "            X = input_data.to_numpy()[250:1000]\n",
    "            X = X.T\n",
    "            y = path[1]\n",
    "            output_x.append(X)\n",
    "            output_y.append(float(y))\n",
    "    \n",
    "    output_x = np.array(output_x) \n",
    "    output_y = np.array(output_y)\n",
    "    return output_x, output_y\n",
    "\n",
    "X, y = read_csvs(folder, types, paths)\n",
    "\n",
    "\n",
    "cv = KFold(n_splits=4, shuffle=True)\n",
    "\n",
    "start = time()\n",
    "clf = make_pipeline(XdawnCovariances(estimator='oas'), TangentSpace(metric = \"riemann\"), RandomForestClassifier(n_estimators=1000, n_jobs = 8))\n",
    "\n",
    "pred = np.zeros(len(y))\n",
    "print(len(y))\n",
    "\n",
    "for train_idx, test_idx in cv.split(X):\n",
    "    y_train, y_test = y[train_idx], y[test_idx]\n",
    "    clf.fit(X[train_idx], y_train)\n",
    "    pred[test_idx] = clf.predict(X[test_idx])\n",
    "\n",
    "acc = np.mean(pred == y)\n",
    "print(\"Classification accuracy: %f \" % (acc))\n",
    "end = time()\n",
    "print(\"Time taken: \" + str(end - start))\n",
    "plot_confusion_matrix(clf, X, y, display_labels=types)  \n",
    "plt.show()  "
   ]
  },
  {
   "cell_type": "code",
   "execution_count": null,
   "id": "65c4ed80",
   "metadata": {
    "scrolled": true
   },
   "outputs": [],
   "source": [
    "from time import time\n",
    "\n",
    "folder = \"../Collected_Data/FormattedEEG/\"\n",
    "types = [\"control\", \"left_blink\", \"right_blink\"]\n",
    "paths_orig = np.array([[\"left_blink_var1\", 1],[\"left_blink_var2\", 1], [\"right_blink_var1\", 2], [\"right_blink_var2\", 2], [\"control_var1\", 0], [\"control_var2\", 0]])\n",
    "noleftvar1 = np.array([[\"left_blink_var2\", 1], [\"right_blink_var1\", 2], [\"right_blink_var2\", 2], [\"control_var1\", 0], [\"control_var2\", 0]])\n",
    "noleftvar2 = np.array([[\"left_blink_var1\", 1], [\"right_blink_var1\", 2], [\"right_blink_var2\", 2], [\"control_var1\", 0], [\"control_var2\", 0]])\n",
    "norightvar1 = np.array([[\"left_blink_var1\", 1],[\"left_blink_var2\", 1], [\"right_blink_var2\", 2], [\"control_var1\", 0], [\"control_var2\", 0]])\n",
    "norightvar2 = np.array([[\"left_blink_var1\", 1],[\"left_blink_var2\", 1], [\"right_blink_var1\", 2], [\"control_var1\", 0], [\"control_var2\", 0]])\n",
    "nocontrol1 = np.array([[\"left_blink_var1\", 1],[\"left_blink_var2\", 1], [\"right_blink_var1\", 2], [\"right_blink_var2\", 2], [\"control_var2\", 0]])\n",
    "nocontrol2 = np.array([[\"left_blink_var1\", 1],[\"left_blink_var2\", 1], [\"right_blink_var1\", 2], [\"right_blink_var2\", 2], [\"control_var1\", 0]])\n",
    "\n",
    "paths_list = [[paths_orig, \"original\"], [noleftvar1, \"no left blink var1\"], [noleftvar2, \"no left blink var2\"], [norightvar1, \"no right var1\"], [norightvar2, \"no right var2\"], [nocontrol1, \"no control var 1\"], [nocontrol2, \"no control var 2\"]]\n",
    "for paths in paths_list:\n",
    "    X, y = read_csvs(folder, types, paths[0])\n",
    "\n",
    "\n",
    "    cv = KFold(n_splits=4, shuffle=True)\n",
    "\n",
    "    clf = make_pipeline(XdawnCovariances(estimator='oas'), TangentSpace(metric = \"riemann\"), RandomForestClassifier(n_estimators=500, n_jobs=4))\n",
    "\n",
    "    pred = np.zeros(len(y))\n",
    "    print(\"Test: \" + paths[1])\n",
    "    print(\"Test size:\" + str(len(y)))\n",
    "\n",
    "    for train_idx, test_idx in cv.split(X):\n",
    "        y_train, y_test = y[train_idx], y[test_idx]\n",
    "        clf.fit(X[train_idx], y_train)\n",
    "        pred[test_idx] = clf.predict(X[test_idx])\n",
    "\n",
    "    count = 0\n",
    "    wrong_labelled = []\n",
    "    for j in range(len(pred)):\n",
    "        if pred[j] == y[j]:\n",
    "            count += 1\n",
    "        else:\n",
    "            wrong_labelled.append(j)\n",
    "    print(wrong_labelled)\n",
    "    acc = count / len(pred)\n",
    "    print(\"Classification accuracy: %f \\n\" % (acc))\n",
    "    plot_confusion_matrix(clf, X, y, display_labels=types)  \n",
    "    plt.show()  "
   ]
  },
  {
   "cell_type": "code",
   "execution_count": 9,
   "id": "793f232a",
   "metadata": {
    "scrolled": true
   },
   "outputs": [
    {
     "name": "stdout",
     "output_type": "stream",
     "text": [
      "looking for an EEG stream...\n"
     ]
    },
    {
     "ename": "ValueError",
     "evalue": "all the input array dimensions for the concatenation axis must match exactly, but along dimension 1, the array at index 0 has size 0 and the array at index 1 has size 4",
     "output_type": "error",
     "traceback": [
      "\u001b[1;31m---------------------------------------------------------------------------\u001b[0m",
      "\u001b[1;31mValueError\u001b[0m                                Traceback (most recent call last)",
      "\u001b[1;32m<ipython-input-9-fc68840ce77b>\u001b[0m in \u001b[0;36m<module>\u001b[1;34m\u001b[0m\n\u001b[0;32m     50\u001b[0m \u001b[1;33m\u001b[0m\u001b[0m\n\u001b[0;32m     51\u001b[0m \u001b[1;32mif\u001b[0m \u001b[0m__name__\u001b[0m \u001b[1;33m==\u001b[0m \u001b[1;34m\"__main__\"\u001b[0m\u001b[1;33m:\u001b[0m\u001b[1;33m\u001b[0m\u001b[1;33m\u001b[0m\u001b[0m\n\u001b[1;32m---> 52\u001b[1;33m     \u001b[0mmain\u001b[0m\u001b[1;33m(\u001b[0m\u001b[1;33m)\u001b[0m\u001b[1;33m\u001b[0m\u001b[1;33m\u001b[0m\u001b[0m\n\u001b[0m\u001b[0;32m     53\u001b[0m \u001b[1;33m\u001b[0m\u001b[0m\n",
      "\u001b[1;32m<ipython-input-9-fc68840ce77b>\u001b[0m in \u001b[0;36mmain\u001b[1;34m()\u001b[0m\n\u001b[0;32m     42\u001b[0m         \u001b[1;31m#print(chunk)\u001b[0m\u001b[1;33m\u001b[0m\u001b[1;33m\u001b[0m\u001b[1;33m\u001b[0m\u001b[0m\n\u001b[0;32m     43\u001b[0m \u001b[1;33m\u001b[0m\u001b[0m\n\u001b[1;32m---> 44\u001b[1;33m         \u001b[0moutput\u001b[0m\u001b[1;33m,\u001b[0m \u001b[0mbuffer\u001b[0m \u001b[1;33m=\u001b[0m \u001b[0mstream_sliding\u001b[0m\u001b[1;33m(\u001b[0m\u001b[0mbuffer\u001b[0m\u001b[1;33m,\u001b[0m \u001b[1;36m750\u001b[0m\u001b[1;33m,\u001b[0m \u001b[0mchunk\u001b[0m\u001b[1;33m,\u001b[0m \u001b[0mload_data_ML\u001b[0m\u001b[1;33m)\u001b[0m\u001b[1;33m\u001b[0m\u001b[1;33m\u001b[0m\u001b[0m\n\u001b[0m\u001b[0;32m     45\u001b[0m         \u001b[1;31m#print(output)\u001b[0m\u001b[1;33m\u001b[0m\u001b[1;33m\u001b[0m\u001b[1;33m\u001b[0m\u001b[0m\n\u001b[0;32m     46\u001b[0m         \u001b[1;31m#if len(output) > 0:\u001b[0m\u001b[1;33m\u001b[0m\u001b[1;33m\u001b[0m\u001b[1;33m\u001b[0m\u001b[0m\n",
      "\u001b[1;32m<ipython-input-9-fc68840ce77b>\u001b[0m in \u001b[0;36mstream_sliding\u001b[1;34m(buffer, buffer_size, chunk, load_data_ML)\u001b[0m\n\u001b[0;32m     13\u001b[0m             \u001b[1;32mfor\u001b[0m \u001b[0mi\u001b[0m \u001b[1;32min\u001b[0m \u001b[0mrange\u001b[0m\u001b[1;33m(\u001b[0m\u001b[1;36m750\u001b[0m\u001b[1;33m)\u001b[0m\u001b[1;33m:\u001b[0m\u001b[1;33m\u001b[0m\u001b[1;33m\u001b[0m\u001b[0m\n\u001b[0;32m     14\u001b[0m                 \u001b[0mcur\u001b[0m \u001b[1;33m=\u001b[0m \u001b[0mnp\u001b[0m\u001b[1;33m.\u001b[0m\u001b[0marray\u001b[0m\u001b[1;33m(\u001b[0m\u001b[1;33m[\u001b[0m\u001b[0mbuffer\u001b[0m\u001b[1;33m.\u001b[0m\u001b[0mget\u001b[0m\u001b[1;33m(\u001b[0m\u001b[1;33m)\u001b[0m\u001b[1;33m]\u001b[0m\u001b[1;33m)\u001b[0m\u001b[1;33m\u001b[0m\u001b[1;33m\u001b[0m\u001b[0m\n\u001b[1;32m---> 15\u001b[1;33m                 \u001b[0moutput_array\u001b[0m \u001b[1;33m=\u001b[0m \u001b[0mnp\u001b[0m\u001b[1;33m.\u001b[0m\u001b[0mappend\u001b[0m\u001b[1;33m(\u001b[0m\u001b[0moutput_array\u001b[0m\u001b[1;33m,\u001b[0m \u001b[0mcur\u001b[0m\u001b[1;33m,\u001b[0m \u001b[0maxis\u001b[0m\u001b[1;33m=\u001b[0m\u001b[1;36m0\u001b[0m\u001b[1;33m)\u001b[0m\u001b[1;33m\u001b[0m\u001b[1;33m\u001b[0m\u001b[0m\n\u001b[0m\u001b[0;32m     16\u001b[0m             \u001b[1;31m#output_array = np.reshape(output_array, (750, 4))\u001b[0m\u001b[1;33m\u001b[0m\u001b[1;33m\u001b[0m\u001b[1;33m\u001b[0m\u001b[0m\n\u001b[0;32m     17\u001b[0m             \u001b[0mprint\u001b[0m\u001b[1;33m(\u001b[0m\u001b[0moutput_array\u001b[0m\u001b[1;33m.\u001b[0m\u001b[0mshape\u001b[0m\u001b[1;33m)\u001b[0m\u001b[1;33m\u001b[0m\u001b[1;33m\u001b[0m\u001b[0m\n",
      "\u001b[1;32m<__array_function__ internals>\u001b[0m in \u001b[0;36mappend\u001b[1;34m(*args, **kwargs)\u001b[0m\n",
      "\u001b[1;32m~\\anaconda3\\lib\\site-packages\\numpy\\lib\\function_base.py\u001b[0m in \u001b[0;36mappend\u001b[1;34m(arr, values, axis)\u001b[0m\n\u001b[0;32m   4743\u001b[0m         \u001b[0mvalues\u001b[0m \u001b[1;33m=\u001b[0m \u001b[0mravel\u001b[0m\u001b[1;33m(\u001b[0m\u001b[0mvalues\u001b[0m\u001b[1;33m)\u001b[0m\u001b[1;33m\u001b[0m\u001b[1;33m\u001b[0m\u001b[0m\n\u001b[0;32m   4744\u001b[0m         \u001b[0maxis\u001b[0m \u001b[1;33m=\u001b[0m \u001b[0marr\u001b[0m\u001b[1;33m.\u001b[0m\u001b[0mndim\u001b[0m\u001b[1;33m-\u001b[0m\u001b[1;36m1\u001b[0m\u001b[1;33m\u001b[0m\u001b[1;33m\u001b[0m\u001b[0m\n\u001b[1;32m-> 4745\u001b[1;33m     \u001b[1;32mreturn\u001b[0m \u001b[0mconcatenate\u001b[0m\u001b[1;33m(\u001b[0m\u001b[1;33m(\u001b[0m\u001b[0marr\u001b[0m\u001b[1;33m,\u001b[0m \u001b[0mvalues\u001b[0m\u001b[1;33m)\u001b[0m\u001b[1;33m,\u001b[0m \u001b[0maxis\u001b[0m\u001b[1;33m=\u001b[0m\u001b[0maxis\u001b[0m\u001b[1;33m)\u001b[0m\u001b[1;33m\u001b[0m\u001b[1;33m\u001b[0m\u001b[0m\n\u001b[0m\u001b[0;32m   4746\u001b[0m \u001b[1;33m\u001b[0m\u001b[0m\n\u001b[0;32m   4747\u001b[0m \u001b[1;33m\u001b[0m\u001b[0m\n",
      "\u001b[1;32m<__array_function__ internals>\u001b[0m in \u001b[0;36mconcatenate\u001b[1;34m(*args, **kwargs)\u001b[0m\n",
      "\u001b[1;31mValueError\u001b[0m: all the input array dimensions for the concatenation axis must match exactly, but along dimension 1, the array at index 0 has size 0 and the array at index 1 has size 4"
     ]
    }
   ],
   "source": [
    "from queue import Queue\n",
    "from pylsl import StreamInlet, resolve_stream\n",
    "import matplotlib.pyplot as plt\n",
    "import numpy as np\n",
    "\n",
    "import keyboard\n",
    "import time\n",
    "\n",
    "def stream_sliding(buffer, buffer_size, chunk, load_data_ML):\n",
    "    output_array = np.array([])\n",
    "    if buffer.full():\n",
    "        if (load_data_ML):\n",
    "            for i in range(750):\n",
    "                \n",
    "                output_array = np.concatenate(output_array, buffer.get())\n",
    "            #output_array = np.reshape(output_array, (750, 4))\n",
    "            print(output_array.shape)\n",
    "            print(output_array)\n",
    "        else:\n",
    "            buffer.get()\n",
    "            buffer.put(chunk)\n",
    "    else:\n",
    "        buffer.put(chunk)\n",
    "    return output_array, buffer\n",
    "\n",
    "def main():\n",
    "    buffer = Queue(maxsize = 750)\n",
    "    load_data_ML = True\n",
    "    # first resolve an EEG stream on the lab network\n",
    "    print(\"looking for an EEG stream...\")\n",
    "    streams = resolve_stream('type', 'EEG')\n",
    "\n",
    "    # create a new inlet to read from the stream\n",
    "    inlet = StreamInlet(streams[0])\n",
    "\n",
    "    while True:\n",
    "        if keyboard.is_pressed(\"q\"):\n",
    "            print(\"exiting program\")\n",
    "            break\n",
    "        chunk,_ = inlet.pull_sample()\n",
    "        chunk = np.array(chunk)[0: 4]\n",
    "        #print(chunk)\n",
    "\n",
    "        output, buffer = stream_sliding(buffer, 750, chunk, load_data_ML)\n",
    "        #print(output)\n",
    "        #if len(output) > 0:\n",
    "            #send to ML model\n",
    "            #print(output.shape)\n",
    "    print('Streams closed')\n",
    "\n",
    "if __name__ == \"__main__\":\n",
    "    main()\n",
    "    "
   ]
  },
  {
   "cell_type": "code",
   "execution_count": null,
   "id": "21dc14d2",
   "metadata": {
    "scrolled": true
   },
   "outputs": [],
   "source": [
    "from queue import Queue\n",
    "buffer_zone = Queue(maxsize = 10)\n",
    "buffer_zone.put(1)\n",
    "buffer_zone.put(2)\n",
    "print(buffer_zone.qsize())"
   ]
  },
  {
   "cell_type": "code",
   "execution_count": null,
   "id": "ddc88deb",
   "metadata": {},
   "outputs": [],
   "source": [
    "buffer = np.array([])\n",
    "print(buffer)"
   ]
  },
  {
   "cell_type": "code",
   "execution_count": null,
   "id": "9cffbf2e",
   "metadata": {},
   "outputs": [],
   "source": [
    "np.append(buffer, [[1,2],[1,2]])"
   ]
  },
  {
   "cell_type": "code",
   "execution_count": null,
   "id": "cb2ffd87",
   "metadata": {},
   "outputs": [],
   "source": []
  }
 ],
 "metadata": {
  "kernelspec": {
   "display_name": "Python 3",
   "language": "python",
   "name": "python3"
  },
  "language_info": {
   "codemirror_mode": {
    "name": "ipython",
    "version": 3
   },
   "file_extension": ".py",
   "mimetype": "text/x-python",
   "name": "python",
   "nbconvert_exporter": "python",
   "pygments_lexer": "ipython3",
   "version": "3.8.8"
  }
 },
 "nbformat": 4,
 "nbformat_minor": 5
}
