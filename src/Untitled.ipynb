{
 "cells": [
  {
   "cell_type": "code",
   "execution_count": null,
   "id": "33a028fc",
   "metadata": {},
   "outputs": [],
   "source": [
    "from pynput.keyboard import Key, Controller\n",
    "kb = Controller()\n",
    "key = \"a\"\n",
    "b = input()\n",
    "kb.press(key) # Presses \"left\" key\n"
   ]
  },
  {
   "cell_type": "code",
   "execution_count": null,
   "id": "66777449",
   "metadata": {},
   "outputs": [],
   "source": []
  }
 ],
 "metadata": {
  "kernelspec": {
   "display_name": "Python 3",
   "language": "python",
   "name": "python3"
  },
  "language_info": {
   "codemirror_mode": {
    "name": "ipython",
    "version": 3
   },
   "file_extension": ".py",
   "mimetype": "text/x-python",
   "name": "python",
   "nbconvert_exporter": "python",
   "pygments_lexer": "ipython3",
   "version": "3.8.8"
  }
 },
 "nbformat": 4,
 "nbformat_minor": 5
}
